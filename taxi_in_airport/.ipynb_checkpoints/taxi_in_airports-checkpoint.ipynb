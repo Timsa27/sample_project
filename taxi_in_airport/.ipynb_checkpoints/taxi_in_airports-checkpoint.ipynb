{
 "cells": [
  {
   "cell_type": "markdown",
   "metadata": {
    "toc": true
   },
   "source": [
    "<h1>Table of Contents<span class=\"tocSkip\"></span></h1>\n",
    "<div class=\"toc\"><ul class=\"toc-item\"><li><span><a href=\"#Описание-проекта\" data-toc-modified-id=\"Описание-проекта-1\"><span class=\"toc-item-num\">1&nbsp;&nbsp;</span>Описание проекта</a></span><ul class=\"toc-item\"><li><span><a href=\"#Вывод:\" data-toc-modified-id=\"Вывод:-1.1\"><span class=\"toc-item-num\">1.1&nbsp;&nbsp;</span>Вывод:</a></span></li></ul></li><li><span><a href=\"#Ресемплирование\" data-toc-modified-id=\"Ресемплирование-2\"><span class=\"toc-item-num\">2&nbsp;&nbsp;</span>Ресемплирование</a></span></li><li><span><a href=\"#Тренды-и-сезонность\" data-toc-modified-id=\"Тренды-и-сезонность-3\"><span class=\"toc-item-num\">3&nbsp;&nbsp;</span>Тренды и сезонность</a></span><ul class=\"toc-item\"><li><span><a href=\"#Вывод:\" data-toc-modified-id=\"Вывод:-3.1\"><span class=\"toc-item-num\">3.1&nbsp;&nbsp;</span>Вывод:</a></span></li><li><span><a href=\"#Задача-прогнозирования:\" data-toc-modified-id=\"Задача-прогнозирования:-3.2\"><span class=\"toc-item-num\">3.2&nbsp;&nbsp;</span>Задача прогнозирования:</a></span></li></ul></li><li><span><a href=\"#Обучение-модели\" data-toc-modified-id=\"Обучение-модели-4\"><span class=\"toc-item-num\">4&nbsp;&nbsp;</span>Обучение модели</a></span></li><li><span><a href=\"#1.--Подберем-лучшее-значение-параметром-функции-make_features-на-примере-линейной-регрессии\" data-toc-modified-id=\"1.--Подберем-лучшее-значение-параметром-функции-make_features-на-примере-линейной-регрессии-5\"><span class=\"toc-item-num\">5&nbsp;&nbsp;</span>1.  Подберем лучшее значение параметром функции make_features на примере линейной регрессии</a></span></li><li><span><a href=\"#2.-Подберем-гиперпараметры-для-моделей\" data-toc-modified-id=\"2.-Подберем-гиперпараметры-для-моделей-6\"><span class=\"toc-item-num\">6&nbsp;&nbsp;</span>2. Подберем гиперпараметры для моделей</a></span><ul class=\"toc-item\"><li><span><a href=\"#Вывод:\" data-toc-modified-id=\"Вывод:-6.1\"><span class=\"toc-item-num\">6.1&nbsp;&nbsp;</span>Вывод:</a></span></li></ul></li><li><span><a href=\"#Вопросы-по-проекту:\" data-toc-modified-id=\"Вопросы-по-проекту:-7\"><span class=\"toc-item-num\">7&nbsp;&nbsp;</span>Вопросы по проекту:</a></span></li></ul></div>"
   ]
  },
  {
   "cell_type": "markdown",
   "metadata": {},
   "source": [
    "## Описание проекта\n",
    "Цель:\n",
    "По историческим данные о заказах такси в аэропортах постройте модель для предсказания спроса."
   ]
  },
  {
   "cell_type": "code",
   "execution_count": 1,
   "metadata": {},
   "outputs": [],
   "source": [
    "import pandas as pd\n",
    "import matplotlib.pyplot as plt\n",
    "import seaborn as sns\n",
    "import numpy as np\n",
    "from scipy import stats as st\n",
    "from IPython.display import display\n",
    "from sklearn.linear_model import LinearRegression\n",
    "from sklearn.tree import DecisionTreeRegressor\n",
    "from sklearn.ensemble import RandomForestRegressor\n",
    "from sklearn.metrics import mean_squared_error\n",
    "from sklearn.model_selection import train_test_split\n",
    "from sklearn.utils import shuffle\n",
    "from sklearn.model_selection import cross_val_score\n",
    "from sklearn.model_selection import cross_validate\n",
    "from sklearn.model_selection import cross_val_predict\n",
    "from sklearn.model_selection import GridSearchCV\n",
    "from sklearn.metrics import make_scorer\n",
    "from lightgbm import  LGBMRegressor\n",
    "from sklearn.dummy import DummyRegressor\n",
    "from statsmodels.tsa.seasonal import seasonal_decompose\n",
    "from catboost import Pool, CatBoostRegressor\n",
    "from sklearn.model_selection import TimeSeriesSplit"
   ]
  },
  {
   "cell_type": "markdown",
   "metadata": {},
   "source": [
    "# 1. Подготовка"
   ]
  },
  {
   "cell_type": "code",
   "execution_count": 2,
   "metadata": {},
   "outputs": [
    {
     "name": "stdout",
     "output_type": "stream",
     "text": [
      "<class 'pandas.core.frame.DataFrame'>\n",
      "DatetimeIndex: 26496 entries, 2018-03-01 00:00:00 to 2018-08-31 23:50:00\n",
      "Data columns (total 1 columns):\n",
      " #   Column      Non-Null Count  Dtype\n",
      "---  ------      --------------  -----\n",
      " 0   num_orders  26496 non-null  int64\n",
      "dtypes: int64(1)\n",
      "memory usage: 414.0 KB\n"
     ]
    },
    {
     "data": {
      "text/html": [
       "<div>\n",
       "<style scoped>\n",
       "    .dataframe tbody tr th:only-of-type {\n",
       "        vertical-align: middle;\n",
       "    }\n",
       "\n",
       "    .dataframe tbody tr th {\n",
       "        vertical-align: top;\n",
       "    }\n",
       "\n",
       "    .dataframe thead th {\n",
       "        text-align: right;\n",
       "    }\n",
       "</style>\n",
       "<table border=\"1\" class=\"dataframe\">\n",
       "  <thead>\n",
       "    <tr style=\"text-align: right;\">\n",
       "      <th></th>\n",
       "      <th>num_orders</th>\n",
       "    </tr>\n",
       "    <tr>\n",
       "      <th>datetime</th>\n",
       "      <th></th>\n",
       "    </tr>\n",
       "  </thead>\n",
       "  <tbody>\n",
       "    <tr>\n",
       "      <th>2018-03-01 00:00:00</th>\n",
       "      <td>9</td>\n",
       "    </tr>\n",
       "    <tr>\n",
       "      <th>2018-03-01 00:10:00</th>\n",
       "      <td>14</td>\n",
       "    </tr>\n",
       "    <tr>\n",
       "      <th>2018-03-01 00:20:00</th>\n",
       "      <td>28</td>\n",
       "    </tr>\n",
       "    <tr>\n",
       "      <th>2018-03-01 00:30:00</th>\n",
       "      <td>20</td>\n",
       "    </tr>\n",
       "    <tr>\n",
       "      <th>2018-03-01 00:40:00</th>\n",
       "      <td>32</td>\n",
       "    </tr>\n",
       "  </tbody>\n",
       "</table>\n",
       "</div>"
      ],
      "text/plain": [
       "                     num_orders\n",
       "datetime                       \n",
       "2018-03-01 00:00:00           9\n",
       "2018-03-01 00:10:00          14\n",
       "2018-03-01 00:20:00          28\n",
       "2018-03-01 00:30:00          20\n",
       "2018-03-01 00:40:00          32"
      ]
     },
     "metadata": {},
     "output_type": "display_data"
    },
    {
     "data": {
      "text/plain": [
       "None"
      ]
     },
     "metadata": {},
     "output_type": "display_data"
    }
   ],
   "source": [
    "#прочитаем данные, первый столбец выделим, как индекс и распознаем, как datatime\n",
    "taxi = pd.read_csv('/datasets/taxi.csv',index_col=[0], parse_dates=[0])\n",
    "#taxi = pd.read_csv('/Users/ludmila/Documents/Сережа учится ДАтасайнс/проект 9 Taxi/taxi.csv',index_col=[0], parse_dates=[0])\n",
    "display(taxi.head(), taxi.info())"
   ]
  },
  {
   "cell_type": "code",
   "execution_count": 3,
   "metadata": {},
   "outputs": [
    {
     "data": {
      "text/html": [
       "<div>\n",
       "<style scoped>\n",
       "    .dataframe tbody tr th:only-of-type {\n",
       "        vertical-align: middle;\n",
       "    }\n",
       "\n",
       "    .dataframe tbody tr th {\n",
       "        vertical-align: top;\n",
       "    }\n",
       "\n",
       "    .dataframe thead th {\n",
       "        text-align: right;\n",
       "    }\n",
       "</style>\n",
       "<table border=\"1\" class=\"dataframe\">\n",
       "  <thead>\n",
       "    <tr style=\"text-align: right;\">\n",
       "      <th></th>\n",
       "      <th>num_orders</th>\n",
       "    </tr>\n",
       "  </thead>\n",
       "  <tbody>\n",
       "    <tr>\n",
       "      <th>count</th>\n",
       "      <td>26496.000000</td>\n",
       "    </tr>\n",
       "    <tr>\n",
       "      <th>mean</th>\n",
       "      <td>14.070463</td>\n",
       "    </tr>\n",
       "    <tr>\n",
       "      <th>std</th>\n",
       "      <td>9.211330</td>\n",
       "    </tr>\n",
       "    <tr>\n",
       "      <th>min</th>\n",
       "      <td>0.000000</td>\n",
       "    </tr>\n",
       "    <tr>\n",
       "      <th>25%</th>\n",
       "      <td>8.000000</td>\n",
       "    </tr>\n",
       "    <tr>\n",
       "      <th>50%</th>\n",
       "      <td>13.000000</td>\n",
       "    </tr>\n",
       "    <tr>\n",
       "      <th>75%</th>\n",
       "      <td>19.000000</td>\n",
       "    </tr>\n",
       "    <tr>\n",
       "      <th>max</th>\n",
       "      <td>119.000000</td>\n",
       "    </tr>\n",
       "  </tbody>\n",
       "</table>\n",
       "</div>"
      ],
      "text/plain": [
       "         num_orders\n",
       "count  26496.000000\n",
       "mean      14.070463\n",
       "std        9.211330\n",
       "min        0.000000\n",
       "25%        8.000000\n",
       "50%       13.000000\n",
       "75%       19.000000\n",
       "max      119.000000"
      ]
     },
     "execution_count": 3,
     "metadata": {},
     "output_type": "execute_result"
    }
   ],
   "source": [
    "taxi.describe()"
   ]
  },
  {
   "cell_type": "code",
   "execution_count": 4,
   "metadata": {},
   "outputs": [
    {
     "data": {
      "text/plain": [
       "26415"
      ]
     },
     "execution_count": 4,
     "metadata": {},
     "output_type": "execute_result"
    }
   ],
   "source": [
    "# проверим таблицу на дубликаты\n",
    "taxi.duplicated().sum()"
   ]
  },
  {
   "cell_type": "code",
   "execution_count": 5,
   "metadata": {},
   "outputs": [],
   "source": [
    "#выстроим объекты в хронологическом порядке\n",
    "taxi.sort_index(inplace=True)"
   ]
  },
  {
   "cell_type": "code",
   "execution_count": 6,
   "metadata": {},
   "outputs": [
    {
     "name": "stdout",
     "output_type": "stream",
     "text": [
      "True\n"
     ]
    }
   ],
   "source": [
    "# проверим в хронологическом ли порядке расположены объекты\n",
    "print(taxi.index.is_monotonic)"
   ]
  },
  {
   "cell_type": "markdown",
   "metadata": {},
   "source": [
    "### Вывод:\n",
    "- В таблице в индексе информация о времени и столбце количество заказов за этот промежуток времени (10 минут)\n",
    "- Максимум было 77 заказов за 10 заказов, минимум 0, в среднем 13.\n",
    "- Пропусков и дубликов нет, можно приступать к подготовке\n",
    "- данные в нужном виде ( индекс datatime)\n",
    "- объекты расположены в хронологическом порядке"
   ]
  },
  {
   "cell_type": "markdown",
   "metadata": {},
   "source": [
    "## Ресемплирование"
   ]
  },
  {
   "cell_type": "code",
   "execution_count": 7,
   "metadata": {},
   "outputs": [],
   "source": [
    "# Выполним ресемплирование по одному часу, за агрегированное значение выберем сумму\n",
    "taxi = taxi.resample('1H').sum()"
   ]
  },
  {
   "cell_type": "code",
   "execution_count": 8,
   "metadata": {},
   "outputs": [
    {
     "data": {
      "text/plain": [
       "Text(23.875, 0.5, 'количество заказов')"
      ]
     },
     "execution_count": 8,
     "metadata": {},
     "output_type": "execute_result"
    },
    {
     "data": {
      "text/plain": [
       "<Figure size 288x576 with 0 Axes>"
      ]
     },
     "metadata": {},
     "output_type": "display_data"
    },
    {
     "data": {
      "image/png": "[encoded data removed]",
      "text/plain": [
       "<Figure size 432x288 with 1 Axes>"
      ]
     },
     "metadata": {
      "needs_background": "light"
     },
     "output_type": "display_data"
    }
   ],
   "source": [
    "#Посмотрим на график по этим значениям\n",
    "plt.figure(figsize=(4, 8))\n",
    "taxi.plot()\n",
    "plt.title('Заказ такси')\n",
    "plt.tight_layout()\n",
    "plt.ylabel('количество заказов')"
   ]
  },
  {
   "cell_type": "markdown",
   "metadata": {},
   "source": [
    "# 2. Анализ"
   ]
  },
  {
   "cell_type": "markdown",
   "metadata": {},
   "source": [
    "## Тренды и сезонность\n",
    "Разложим временной ряд на три составляющие: тренд, сезонность и остаток"
   ]
  },
  {
   "cell_type": "code",
   "execution_count": 9,
   "metadata": {},
   "outputs": [],
   "source": [
    "taxi_decomposed = seasonal_decompose(taxi)\n"
   ]
  },
  {
   "cell_type": "code",
   "execution_count": 10,
   "metadata": {},
   "outputs": [
    {
     "data": {
      "image/png": "[encoded data removed]",
      "text/plain": [
       "<Figure size 864x576 with 3 Axes>"
      ]
     },
     "metadata": {
      "needs_background": "light"
     },
     "output_type": "display_data"
    }
   ],
   "source": [
    "plt.figure(figsize=(12, 8))\n",
    "\n",
    "plt.subplot(311)\n",
    "# Чтобы график корректно отобразился, указываем его оси ax, равными plt.gca() \n",
    "# Тренд и шум изобразим на одном графике за весь период для наглядностиод\n",
    "\n",
    "taxi_decomposed.trend.plot(ax=plt.gca())\n",
    "\n",
    "taxi_decomposed.resid.plot(ax=plt.gca())\n",
    "\n",
    "plt.title('Trend and Residuals')\n",
    "\n",
    "#  посмотрим сезонность за один месяц\n",
    "plt.subplot(312)\n",
    "taxi_decomposed.seasonal['2018-03-01':'2018-04-01'].plot(ax=plt.gca())\n",
    "plt.title('Seasonality_month')\n",
    "\n",
    "# посмотрим созонность за одни сутки\n",
    "plt.subplot(313)\n",
    "taxi_decomposed.seasonal['2018-03-03':'2018-03-03'].plot(ax=plt.gca())\n",
    "plt.title('Seasonality_day')\n",
    "\n",
    "\n",
    "\n",
    "plt.tight_layout()"
   ]
  },
  {
   "cell_type": "markdown",
   "metadata": {},
   "source": [
    "### Вывод:\n",
    "- за данный период есть восходящий тренд (летом такси заказывают больше, чем весной)\n",
    "- есть визуальное увеличение шума в к концу периода (сложно объяснить т.к. это шум и он не должен зависеть от времени), возможно, шум будет постоянный, если брать его уровень относительно от тренда, т.е. если в целом значение целевого признака на данный период выросло, то и значение шума тоже выросло.\n",
    "- есть суточная сезонность (минимум заказов в 6 утра, максимум в 0:0, есть локальные максимумы 9-10 утра и 16-17)\n",
    "- временной ряд не стационарный, поэтому для корректного предсказания будем создавать дополнительные признаки из более стационарных рядов:\n",
    "    - для учета тренда создадим признак, в котором будет храниться информация за месяц\n",
    "    - для учета суточной сезонности признак за час\n",
    "    - признак по дням недели\n",
    "    - добавим отстающие признаки\n",
    "    - признак скользящее среднее"
   ]
  },
  {
   "cell_type": "markdown",
   "metadata": {},
   "source": [
    "# 3. Обучение"
   ]
  },
  {
   "cell_type": "markdown",
   "metadata": {},
   "source": [
    "### Задача прогнозирования:\n",
    "- предсказать количество заказов такси на следующий час\n",
    "- значение метрики RMSE на тестовой выборке должно быть не больше 48.\n",
    "- горизонт прогнозирования 1 час, \n",
    "- будем решать задачу регрессии"
   ]
  },
  {
   "cell_type": "code",
   "execution_count": 11,
   "metadata": {},
   "outputs": [],
   "source": [
    "# признак, в котором будет храниться информация за месяц\n",
    "taxi['month'] = taxi.index.month\n",
    "# признак, в котором будет храниться информация за час\n",
    "taxi['hour'] = taxi.index.hour\n",
    "# признак, в котором будет храниться информация по дням недели\n",
    "taxi['dayofweek'] = taxi.index.dayofweek\n"
   ]
  },
  {
   "cell_type": "code",
   "execution_count": 12,
   "metadata": {},
   "outputs": [],
   "source": [
    "#  напишим функцию make_features для определения количества отстающих признаков и ширину окна скользящего среднего\n",
    "# при котором будет минимальное значение метрики RMSE\n",
    "# напишем функцию make_features, на вход которой передаем, dataframe data, количестве отстающих признаков max_lag \n",
    "# и ширина окна rolling_mean_size\n",
    "def make_features(data, max_lag, rolling_mean_size):\n",
    "    for lag in range(1, max_lag + 1):\n",
    "        data['lag_{}'.format(lag)] = data['num_orders'].shift(lag)\n",
    "\n",
    "    data['rolling_mean'] = data['lag_1'].rolling(rolling_mean_size).mean()"
   ]
  },
  {
   "cell_type": "code",
   "execution_count": 13,
   "metadata": {},
   "outputs": [],
   "source": [
    "#сделаем тестовую выборку раной 10 %, что бы не подбирать признаки на тестовой выборке\n",
    "train, test = train_test_split(taxi, shuffle=False, test_size=0.1)"
   ]
  },
  {
   "cell_type": "code",
   "execution_count": 14,
   "metadata": {},
   "outputs": [
    {
     "data": {
      "text/html": [
       "<div>\n",
       "<style scoped>\n",
       "    .dataframe tbody tr th:only-of-type {\n",
       "        vertical-align: middle;\n",
       "    }\n",
       "\n",
       "    .dataframe tbody tr th {\n",
       "        vertical-align: top;\n",
       "    }\n",
       "\n",
       "    .dataframe thead th {\n",
       "        text-align: right;\n",
       "    }\n",
       "</style>\n",
       "<table border=\"1\" class=\"dataframe\">\n",
       "  <thead>\n",
       "    <tr style=\"text-align: right;\">\n",
       "      <th></th>\n",
       "      <th>num_orders</th>\n",
       "      <th>month</th>\n",
       "      <th>hour</th>\n",
       "      <th>dayofweek</th>\n",
       "    </tr>\n",
       "    <tr>\n",
       "      <th>datetime</th>\n",
       "      <th></th>\n",
       "      <th></th>\n",
       "      <th></th>\n",
       "      <th></th>\n",
       "    </tr>\n",
       "  </thead>\n",
       "  <tbody>\n",
       "    <tr>\n",
       "      <th>2018-03-01 00:00:00</th>\n",
       "      <td>124</td>\n",
       "      <td>3</td>\n",
       "      <td>0</td>\n",
       "      <td>3</td>\n",
       "    </tr>\n",
       "    <tr>\n",
       "      <th>2018-03-01 01:00:00</th>\n",
       "      <td>85</td>\n",
       "      <td>3</td>\n",
       "      <td>1</td>\n",
       "      <td>3</td>\n",
       "    </tr>\n",
       "    <tr>\n",
       "      <th>2018-03-01 02:00:00</th>\n",
       "      <td>71</td>\n",
       "      <td>3</td>\n",
       "      <td>2</td>\n",
       "      <td>3</td>\n",
       "    </tr>\n",
       "    <tr>\n",
       "      <th>2018-03-01 03:00:00</th>\n",
       "      <td>66</td>\n",
       "      <td>3</td>\n",
       "      <td>3</td>\n",
       "      <td>3</td>\n",
       "    </tr>\n",
       "    <tr>\n",
       "      <th>2018-03-01 04:00:00</th>\n",
       "      <td>43</td>\n",
       "      <td>3</td>\n",
       "      <td>4</td>\n",
       "      <td>3</td>\n",
       "    </tr>\n",
       "    <tr>\n",
       "      <th>...</th>\n",
       "      <td>...</td>\n",
       "      <td>...</td>\n",
       "      <td>...</td>\n",
       "      <td>...</td>\n",
       "    </tr>\n",
       "    <tr>\n",
       "      <th>2018-08-13 09:00:00</th>\n",
       "      <td>137</td>\n",
       "      <td>8</td>\n",
       "      <td>9</td>\n",
       "      <td>0</td>\n",
       "    </tr>\n",
       "    <tr>\n",
       "      <th>2018-08-13 10:00:00</th>\n",
       "      <td>156</td>\n",
       "      <td>8</td>\n",
       "      <td>10</td>\n",
       "      <td>0</td>\n",
       "    </tr>\n",
       "    <tr>\n",
       "      <th>2018-08-13 11:00:00</th>\n",
       "      <td>144</td>\n",
       "      <td>8</td>\n",
       "      <td>11</td>\n",
       "      <td>0</td>\n",
       "    </tr>\n",
       "    <tr>\n",
       "      <th>2018-08-13 12:00:00</th>\n",
       "      <td>92</td>\n",
       "      <td>8</td>\n",
       "      <td>12</td>\n",
       "      <td>0</td>\n",
       "    </tr>\n",
       "    <tr>\n",
       "      <th>2018-08-13 13:00:00</th>\n",
       "      <td>119</td>\n",
       "      <td>8</td>\n",
       "      <td>13</td>\n",
       "      <td>0</td>\n",
       "    </tr>\n",
       "  </tbody>\n",
       "</table>\n",
       "<p>3974 rows × 4 columns</p>\n",
       "</div>"
      ],
      "text/plain": [
       "                     num_orders  month  hour  dayofweek\n",
       "datetime                                               \n",
       "2018-03-01 00:00:00         124      3     0          3\n",
       "2018-03-01 01:00:00          85      3     1          3\n",
       "2018-03-01 02:00:00          71      3     2          3\n",
       "2018-03-01 03:00:00          66      3     3          3\n",
       "2018-03-01 04:00:00          43      3     4          3\n",
       "...                         ...    ...   ...        ...\n",
       "2018-08-13 09:00:00         137      8     9          0\n",
       "2018-08-13 10:00:00         156      8    10          0\n",
       "2018-08-13 11:00:00         144      8    11          0\n",
       "2018-08-13 12:00:00          92      8    12          0\n",
       "2018-08-13 13:00:00         119      8    13          0\n",
       "\n",
       "[3974 rows x 4 columns]"
      ]
     },
     "execution_count": 14,
     "metadata": {},
     "output_type": "execute_result"
    }
   ],
   "source": [
    "train"
   ]
  },
  {
   "cell_type": "markdown",
   "metadata": {},
   "source": [
    "## Обучение модели\n",
    "1. на примере линейной регрессии подберем лучшее значение параметров функции make_features\n",
    "2. подберем гиперпараметры для моделей:\n",
    "    - дерево решений;\n",
    "    - случайный лес;\n",
    "    - градиентный бустинг\n",
    "3. определим лучшую модель"
   ]
  },
  {
   "cell_type": "markdown",
   "metadata": {},
   "source": [
    "## 1.  Подберем лучшее значение параметром функции make_features на примере линейной регрессии"
   ]
  },
  {
   "cell_type": "code",
   "execution_count": 15,
   "metadata": {},
   "outputs": [
    {
     "name": "stdout",
     "output_type": "stream",
     "text": [
      "RMSE наилучшей модели на валидационной выборке: 36.93208988849532\n",
      "Наилучшая модель при максимальном количестве отстающих признаков: 6\n",
      "Наилучшая модель при ширине окна: 19\n"
     ]
    }
   ],
   "source": [
    "# переберем в цикле \n",
    "best_model = None\n",
    "best_result = 0\n",
    "best_max_lag = 0\n",
    "best_rolling_mean_size = 0\n",
    "for lag in range(5, 20):\n",
    "    for rolling_mean_size in range(3, 20):\n",
    "        train_make_features = train.copy()\n",
    "        make_features(train_make_features, lag, rolling_mean_size)\n",
    "        # разделим обучающую выборку на обучающую и валидационую 70:30\n",
    "        train_make_features, valid_make_features = train_test_split(train_make_features, shuffle=False, test_size=0.3)\n",
    "        \n",
    "        train_make_features = train_make_features.dropna()\n",
    "        valid_make_features = valid_make_features.dropna()\n",
    "        # выделим целевой признак\n",
    "        target_train_make_features = train_make_features['num_orders']\n",
    "        target_valid_make_features = valid_make_features['num_orders']\n",
    "        # выделим признаки\n",
    "        features_train_make_features = train_make_features.drop(['num_orders'], axis=1)\n",
    "        features_valid_make_features = valid_make_features.drop(['num_orders'], axis=1)\n",
    "        \n",
    "        \n",
    "        model = LinearRegression()\n",
    "        # обучите модель на тренировочной выборке\n",
    "        model.fit(features_train_make_features,target_train_make_features) \n",
    "        # получим предсказания модели на валидационной\n",
    "        predictions_make_features = model.predict(features_valid_make_features) \n",
    "        result =  mean_squared_error(target_valid_make_features, predictions_make_features)**0.5 # посчитайте качество модели на валидационной выборке\n",
    "        if result > best_result:\n",
    "            best_model = model# сохраните наилучшую модель\n",
    "            best_result = result#  сохраните наилучшее значение метрики accuracy на валидационных данных\n",
    "            best_max_lag = lag\n",
    "            best_rolling_mean_size = rolling_mean_size\n",
    "print(\"RMSE наилучшей модели на валидационной выборке:\", best_result)\n",
    "print(\"Наилучшая модель при максимальном количестве отстающих признаков:\", best_max_lag)\n",
    "print(\"Наилучшая модель при ширине окна:\", best_rolling_mean_size)"
   ]
  },
  {
   "cell_type": "markdown",
   "metadata": {},
   "source": [
    "Добавим в первичные данные best_max_lag отстающих признаков и скользящее окно шириной best_rolling_mean_size"
   ]
  },
  {
   "cell_type": "code",
   "execution_count": 16,
   "metadata": {},
   "outputs": [
    {
     "data": {
      "text/html": [
       "<div>\n",
       "<style scoped>\n",
       "    .dataframe tbody tr th:only-of-type {\n",
       "        vertical-align: middle;\n",
       "    }\n",
       "\n",
       "    .dataframe tbody tr th {\n",
       "        vertical-align: top;\n",
       "    }\n",
       "\n",
       "    .dataframe thead th {\n",
       "        text-align: right;\n",
       "    }\n",
       "</style>\n",
       "<table border=\"1\" class=\"dataframe\">\n",
       "  <thead>\n",
       "    <tr style=\"text-align: right;\">\n",
       "      <th></th>\n",
       "      <th>num_orders</th>\n",
       "      <th>month</th>\n",
       "      <th>hour</th>\n",
       "      <th>dayofweek</th>\n",
       "      <th>lag_1</th>\n",
       "      <th>lag_2</th>\n",
       "      <th>lag_3</th>\n",
       "      <th>lag_4</th>\n",
       "      <th>lag_5</th>\n",
       "      <th>lag_6</th>\n",
       "      <th>rolling_mean</th>\n",
       "    </tr>\n",
       "    <tr>\n",
       "      <th>datetime</th>\n",
       "      <th></th>\n",
       "      <th></th>\n",
       "      <th></th>\n",
       "      <th></th>\n",
       "      <th></th>\n",
       "      <th></th>\n",
       "      <th></th>\n",
       "      <th></th>\n",
       "      <th></th>\n",
       "      <th></th>\n",
       "      <th></th>\n",
       "    </tr>\n",
       "  </thead>\n",
       "  <tbody>\n",
       "    <tr>\n",
       "      <th>2018-03-01 19:00:00</th>\n",
       "      <td>45</td>\n",
       "      <td>3</td>\n",
       "      <td>19</td>\n",
       "      <td>3</td>\n",
       "      <td>73.0</td>\n",
       "      <td>44.0</td>\n",
       "      <td>43.0</td>\n",
       "      <td>66.0</td>\n",
       "      <td>48.0</td>\n",
       "      <td>32.0</td>\n",
       "      <td>53.736842</td>\n",
       "    </tr>\n",
       "    <tr>\n",
       "      <th>2018-03-01 20:00:00</th>\n",
       "      <td>61</td>\n",
       "      <td>3</td>\n",
       "      <td>20</td>\n",
       "      <td>3</td>\n",
       "      <td>45.0</td>\n",
       "      <td>73.0</td>\n",
       "      <td>44.0</td>\n",
       "      <td>43.0</td>\n",
       "      <td>66.0</td>\n",
       "      <td>48.0</td>\n",
       "      <td>49.578947</td>\n",
       "    </tr>\n",
       "    <tr>\n",
       "      <th>2018-03-01 21:00:00</th>\n",
       "      <td>66</td>\n",
       "      <td>3</td>\n",
       "      <td>21</td>\n",
       "      <td>3</td>\n",
       "      <td>61.0</td>\n",
       "      <td>45.0</td>\n",
       "      <td>73.0</td>\n",
       "      <td>44.0</td>\n",
       "      <td>43.0</td>\n",
       "      <td>66.0</td>\n",
       "      <td>48.315789</td>\n",
       "    </tr>\n",
       "    <tr>\n",
       "      <th>2018-03-01 22:00:00</th>\n",
       "      <td>113</td>\n",
       "      <td>3</td>\n",
       "      <td>22</td>\n",
       "      <td>3</td>\n",
       "      <td>66.0</td>\n",
       "      <td>61.0</td>\n",
       "      <td>45.0</td>\n",
       "      <td>73.0</td>\n",
       "      <td>44.0</td>\n",
       "      <td>43.0</td>\n",
       "      <td>48.052632</td>\n",
       "    </tr>\n",
       "    <tr>\n",
       "      <th>2018-03-01 23:00:00</th>\n",
       "      <td>58</td>\n",
       "      <td>3</td>\n",
       "      <td>23</td>\n",
       "      <td>3</td>\n",
       "      <td>113.0</td>\n",
       "      <td>66.0</td>\n",
       "      <td>61.0</td>\n",
       "      <td>45.0</td>\n",
       "      <td>73.0</td>\n",
       "      <td>44.0</td>\n",
       "      <td>50.526316</td>\n",
       "    </tr>\n",
       "  </tbody>\n",
       "</table>\n",
       "</div>"
      ],
      "text/plain": [
       "                     num_orders  month  hour  dayofweek  lag_1  lag_2  lag_3  \\\n",
       "datetime                                                                       \n",
       "2018-03-01 19:00:00          45      3    19          3   73.0   44.0   43.0   \n",
       "2018-03-01 20:00:00          61      3    20          3   45.0   73.0   44.0   \n",
       "2018-03-01 21:00:00          66      3    21          3   61.0   45.0   73.0   \n",
       "2018-03-01 22:00:00         113      3    22          3   66.0   61.0   45.0   \n",
       "2018-03-01 23:00:00          58      3    23          3  113.0   66.0   61.0   \n",
       "\n",
       "                     lag_4  lag_5  lag_6  rolling_mean  \n",
       "datetime                                                \n",
       "2018-03-01 19:00:00   66.0   48.0   32.0     53.736842  \n",
       "2018-03-01 20:00:00   43.0   66.0   48.0     49.578947  \n",
       "2018-03-01 21:00:00   44.0   43.0   66.0     48.315789  \n",
       "2018-03-01 22:00:00   73.0   44.0   43.0     48.052632  \n",
       "2018-03-01 23:00:00   45.0   73.0   44.0     50.526316  "
      ]
     },
     "execution_count": 16,
     "metadata": {},
     "output_type": "execute_result"
    }
   ],
   "source": [
    "make_features(taxi, best_max_lag, best_rolling_mean_size)\n",
    "# удалим \n",
    "taxi=taxi.dropna()\n",
    "taxi.head()"
   ]
  },
  {
   "cell_type": "code",
   "execution_count": 17,
   "metadata": {},
   "outputs": [],
   "source": [
    "# снова разделим на тренировочную и тестовую выборку (9:1)\n",
    "train, test = train_test_split(taxi, shuffle=False, test_size=0.1)"
   ]
  },
  {
   "cell_type": "code",
   "execution_count": 21,
   "metadata": {},
   "outputs": [],
   "source": [
    "# выделим целевой признак\n",
    "target_train = train['num_orders']\n",
    "target_test = test['num_orders']\n",
    "# выделим признаки\n",
    "features_train = train.drop(['num_orders'], axis=1)\n",
    "features_test = test.drop(['num_orders'], axis=1)"
   ]
  },
  {
   "cell_type": "markdown",
   "metadata": {},
   "source": [
    "## 2. Подберем гиперпараметры для моделей \n",
    "Будем использовать кроссвалидащию, метод cv будем использовать TimeSeriesSplit.\n",
    "\n",
    "Создадим функцию, которая принимаем на вход модель и словарь с гиперпараметрами, и возвращает параметры модели и саму модель, при которых было лучшее значение метрики RMSE."
   ]
  },
  {
   "cell_type": "code",
   "execution_count": 18,
   "metadata": {},
   "outputs": [],
   "source": [
    "def train_model(model, params):\n",
    "    grid_model = GridSearchCV(model, params, scoring=make_scorer(mean_squared_error, greater_is_better=False), \n",
    "                              cv=TimeSeriesSplit().split(train),\n",
    "                              refit=True, n_jobs=-1)\n",
    "    \n",
    "    grid_model.fit(features_train, target_train)\n",
    "\n",
    "    return (grid_model.best_params_,grid_model.best_estimator_,grid_model.best_score_)"
   ]
  },
  {
   "cell_type": "markdown",
   "metadata": {},
   "source": [
    "Создадим функцию, которая принимаем на вход список из кортежей модель-словарь с гиперпараметрами, а возвращает таблицу с моделями и подобранными лучшими гиперпараметрами"
   ]
  },
  {
   "cell_type": "code",
   "execution_count": 19,
   "metadata": {},
   "outputs": [],
   "source": [
    "def eval_models(models):\n",
    "    model_results = [\n",
    "        [model.__class__.__name__, *train_model(model, params)] for model, params in models\n",
    "    ]\n",
    "    \n",
    "    columns=['Model Name', 'best_params','model', 'score']\n",
    "    result= pd.DataFrame(model_results, columns=columns).set_index('Model Name').sort_values('score', ascending=False)\n",
    "    result['score'] = abs(result['score'])**0.5\n",
    "    \n",
    "    display(result)\n",
    "    \n",
    "    return model_results"
   ]
  },
  {
   "cell_type": "code",
   "execution_count": 22,
   "metadata": {},
   "outputs": [
    {
     "data": {
      "text/html": [
       "<div>\n",
       "<style scoped>\n",
       "    .dataframe tbody tr th:only-of-type {\n",
       "        vertical-align: middle;\n",
       "    }\n",
       "\n",
       "    .dataframe tbody tr th {\n",
       "        vertical-align: top;\n",
       "    }\n",
       "\n",
       "    .dataframe thead th {\n",
       "        text-align: right;\n",
       "    }\n",
       "</style>\n",
       "<table border=\"1\" class=\"dataframe\">\n",
       "  <thead>\n",
       "    <tr style=\"text-align: right;\">\n",
       "      <th></th>\n",
       "      <th>best_params</th>\n",
       "      <th>model</th>\n",
       "      <th>score</th>\n",
       "    </tr>\n",
       "    <tr>\n",
       "      <th>Model Name</th>\n",
       "      <th></th>\n",
       "      <th></th>\n",
       "      <th></th>\n",
       "    </tr>\n",
       "  </thead>\n",
       "  <tbody>\n",
       "    <tr>\n",
       "      <th>LGBMRegressor</th>\n",
       "      <td>{'n_estimators': 101}</td>\n",
       "      <td>LGBMRegressor(max_depth=15, n_estimators=101, ...</td>\n",
       "      <td>25.192809</td>\n",
       "    </tr>\n",
       "    <tr>\n",
       "      <th>RandomForestRegressor</th>\n",
       "      <td>{'max_depth': 8, 'n_estimators': 30}</td>\n",
       "      <td>(DecisionTreeRegressor(max_depth=8, max_featur...</td>\n",
       "      <td>26.548707</td>\n",
       "    </tr>\n",
       "    <tr>\n",
       "      <th>DecisionTreeRegressor</th>\n",
       "      <td>{'max_depth': 6}</td>\n",
       "      <td>DecisionTreeRegressor(max_depth=6)</td>\n",
       "      <td>29.920053</td>\n",
       "    </tr>\n",
       "    <tr>\n",
       "      <th>LinearRegression</th>\n",
       "      <td>{'normalize': True}</td>\n",
       "      <td>LinearRegression(normalize=True)</td>\n",
       "      <td>32.126853</td>\n",
       "    </tr>\n",
       "    <tr>\n",
       "      <th>DummyRegressor</th>\n",
       "      <td>{'strategy': 'mean'}</td>\n",
       "      <td>DummyRegressor()</td>\n",
       "      <td>41.377778</td>\n",
       "    </tr>\n",
       "  </tbody>\n",
       "</table>\n",
       "</div>"
      ],
      "text/plain": [
       "                                                best_params  \\\n",
       "Model Name                                                    \n",
       "LGBMRegressor                         {'n_estimators': 101}   \n",
       "RandomForestRegressor  {'max_depth': 8, 'n_estimators': 30}   \n",
       "DecisionTreeRegressor                      {'max_depth': 6}   \n",
       "LinearRegression                        {'normalize': True}   \n",
       "DummyRegressor                         {'strategy': 'mean'}   \n",
       "\n",
       "                                                                   model  \\\n",
       "Model Name                                                                 \n",
       "LGBMRegressor          LGBMRegressor(max_depth=15, n_estimators=101, ...   \n",
       "RandomForestRegressor  (DecisionTreeRegressor(max_depth=8, max_featur...   \n",
       "DecisionTreeRegressor                 DecisionTreeRegressor(max_depth=6)   \n",
       "LinearRegression                        LinearRegression(normalize=True)   \n",
       "DummyRegressor                                          DummyRegressor()   \n",
       "\n",
       "                           score  \n",
       "Model Name                        \n",
       "LGBMRegressor          25.192809  \n",
       "RandomForestRegressor  26.548707  \n",
       "DecisionTreeRegressor  29.920053  \n",
       "LinearRegression       32.126853  \n",
       "DummyRegressor         41.377778  "
      ]
     },
     "metadata": {},
     "output_type": "display_data"
    }
   ],
   "source": [
    "models = [\n",
    "    (DummyRegressor(),            dict(strategy=['mean','median'])),\n",
    "    (LinearRegression(),          dict(normalize=[True, False])),\n",
    "    (DecisionTreeRegressor(),     dict(max_depth=range(4,9,1))),\n",
    "    (RandomForestRegressor(),     dict(n_estimators=range(20, 40, 10),max_depth=range(4,9,2))),\n",
    "    (LGBMRegressor(max_depth=15, num_leaves=30), dict(n_estimators=range(1,501,100))),\n",
    "    ]\n",
    "\n",
    "model_results = eval_models(models)"
   ]
  },
  {
   "cell_type": "markdown",
   "metadata": {},
   "source": [
    "### Вывод:\n",
    "1. С помощью линейной регрессии подобрали:\n",
    "    - количество отстающих признаков: 6\n",
    "    - при ширина скользящего окна: 19\n",
    "2. Подобрали гиперпараметры моделей:\n",
    "    - LGBMRegressor\n",
    "    - RandomForestRegressor\n",
    "    - DecisionTreeRegressor\n",
    "    - RandomForestRegressor\n",
    "    - DummyRegressor (для проверки на адекватность)\n",
    "3. Составили табличку лучшими гиперпараметрами и метрикой на кроссвалидации, для каждой из моделей, для определения лучшей модели и проверки на адекватность отсортировали по возрастанию метрики RMSE:\n",
    "    - LGBMRegressor(max_depth=15, num_leaves=30, n_estimators=101) - лучшая модель\n",
    "    - Все модели проходят тест на адекватность (статичная модель, которая предсказывает средним значением на последнем месте)"
   ]
  },
  {
   "cell_type": "markdown",
   "metadata": {},
   "source": [
    "# 4. Тестирование\n",
    "Протестируем лучшую модель на тестовых данных (10 % от всей выборки)"
   ]
  },
  {
   "cell_type": "code",
   "execution_count": 32,
   "metadata": {},
   "outputs": [
    {
     "name": "stdout",
     "output_type": "stream",
     "text": [
      "RMSE: 43.13228826165187\n"
     ]
    }
   ],
   "source": [
    "# зададим модель\n",
    "model= LGBMRegressor(max_depth=15, num_leaves=30, n_estimators=101)\n",
    "# обучим модель на тренировочных данных\n",
    "model.fit(features_train,target_train)\n",
    "# сделаем предсказания на тестовых признаках \n",
    "predictions = model.predict(features_test) \n",
    "# \n",
    "print('RMSE:',mean_squared_error(target_test, predictions)**0.5)\n"
   ]
  },
  {
   "cell_type": "markdown",
   "metadata": {},
   "source": [
    "## Вопросы по проекту:\n",
    "Можем ли мы предсказывать с помощью функция seasonal_decompose:\n",
    "- разложить на три оставляющие: тренд, сезонность и остаток,\n",
    "- остаток удалить и не использовать\n",
    "- тренд взять за целевой параметр для модели и обучить\n",
    "- сезонность в нашем случае - одни сутки (сделать усредненные сутки)\n",
    "- к значению тренда прибавить сутки в зависимости от часа\n",
    " \n",
    " Это и будет итоговое предсказание предсказание\n",
    "\n"
   ]
  },
  {
   "cell_type": "markdown",
   "metadata": {},
   "source": [
    "# Чек-лист проверки"
   ]
  },
  {
   "cell_type": "markdown",
   "metadata": {},
   "source": [
    "- [x]  Jupyter Notebook открыт\n",
    "- [x]  Весь код выполняется без ошибок\n",
    "- [x]  Ячейки с кодом расположены в порядке исполнения\n",
    "- [x]  Данные загружены и подготовлены\n",
    "- [x]  Данные проанализированы\n",
    "- [x]  Модель обучена, гиперпараметры подобраны\n",
    "- [x]  Качество моделей проверено, выводы сделаны\n",
    "- [x]  Значение *RMSE* на тестовой выборке не больше 48"
   ]
  }
 ],
 "metadata": {
  "kernelspec": {
   "display_name": "Python 3",
   "language": "python",
   "name": "python3"
  },
  "language_info": {
   "codemirror_mode": {
    "name": "ipython",
    "version": 3
   },
   "file_extension": ".py",
   "mimetype": "text/x-python",
   "name": "python",
   "nbconvert_exporter": "python",
   "pygments_lexer": "ipython3",
   "version": "3.8.5"
  },
  "toc": {
   "base_numbering": 1,
   "nav_menu": {},
   "number_sections": true,
   "sideBar": true,
   "skip_h1_title": true,
   "title_cell": "Table of Contents",
   "title_sidebar": "Contents",
   "toc_cell": true,
   "toc_position": {},
   "toc_section_display": true,
   "toc_window_display": false
  }
 },
 "nbformat": 4,
 "nbformat_minor": 2
}
